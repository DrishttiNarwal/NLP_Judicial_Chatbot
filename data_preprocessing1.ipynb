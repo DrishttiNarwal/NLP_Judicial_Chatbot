{
 "cells": [
  {
   "cell_type": "markdown",
   "metadata": {},
   "source": [
    "---\n",
    "<h1>Data Pre-Processing</h1>\n",
    "\n",
    "---"
   ]
  },
  {
   "cell_type": "markdown",
   "metadata": {},
   "source": [
    "Importing necessary libraries"
   ]
  },
  {
   "cell_type": "code",
   "execution_count": null,
   "metadata": {},
   "outputs": [],
   "source": [
    "import pandas as pd\n",
    "import re\n",
    "import nltk\n",
    "from nltk.corpus import stopwords\n",
    "from nltk.stem import WordNetLemmatizer\n",
    "from nltk.tokenize import word_tokenize"
   ]
  },
  {
   "cell_type": "markdown",
   "metadata": {},
   "source": [
    "Loading Dataset"
   ]
  },
  {
   "cell_type": "code",
   "execution_count": null,
   "metadata": {},
   "outputs": [
    {
     "name": "stderr",
     "output_type": "stream",
     "text": [
      "[nltk_data] Downloading package stopwords to\n",
      "[nltk_data]     C:\\Users\\chris\\AppData\\Roaming\\nltk_data...\n",
      "[nltk_data]   Package stopwords is already up-to-date!\n",
      "[nltk_data] Downloading package wordnet to\n",
      "[nltk_data]     C:\\Users\\chris\\AppData\\Roaming\\nltk_data...\n",
      "[nltk_data]   Package wordnet is already up-to-date!\n",
      "[nltk_data] Downloading package punkt to\n",
      "[nltk_data]     C:\\Users\\chris\\AppData\\Roaming\\nltk_data...\n",
      "[nltk_data]   Package punkt is already up-to-date!\n",
      "[nltk_data] Downloading package punkt_tab to\n",
      "[nltk_data]     C:\\Users\\chris\\AppData\\Roaming\\nltk_data...\n",
      "[nltk_data]   Package punkt_tab is already up-to-date!\n"
     ]
    }
   ],
   "source": [
    "# Download necessary NLTK data\n",
    "nltk.download('stopwords')\n",
    "nltk.download('wordnet')\n",
    "nltk.download('punkt')\n",
    "nltk.download('punkt_tab')\n",
    "\n",
    "# Load your data\n",
    "data = pd.read_csv(r'data.csv')\n"
   ]
  },
  {
   "cell_type": "code",
   "execution_count": null,
   "metadata": {},
   "outputs": [
    {
     "data": {
      "text/html": [
       "<div>\n",
       "<style scoped>\n",
       "    .dataframe tbody tr th:only-of-type {\n",
       "        vertical-align: middle;\n",
       "    }\n",
       "\n",
       "    .dataframe tbody tr th {\n",
       "        vertical-align: top;\n",
       "    }\n",
       "\n",
       "    .dataframe thead th {\n",
       "        text-align: right;\n",
       "    }\n",
       "</style>\n",
       "<table border=\"1\" class=\"dataframe\">\n",
       "  <thead>\n",
       "    <tr style=\"text-align: right;\">\n",
       "      <th></th>\n",
       "      <th>links</th>\n",
       "      <th>content</th>\n",
       "    </tr>\n",
       "  </thead>\n",
       "  <tbody>\n",
       "    <tr>\n",
       "      <th>0</th>\n",
       "      <td>https://doj.gov.in/</td>\n",
       "      <td>\\n\\n\\n\\n\\n\\n\\n\\n\\n\\nDEPARTMENT OF JUSTICE\\nLat...</td>\n",
       "    </tr>\n",
       "    <tr>\n",
       "      <th>1</th>\n",
       "      <td>https://doj.gov.in/#</td>\n",
       "      <td>\\n\\n\\n\\n\\n\\n\\n\\n\\n\\nDEPARTMENT OF JUSTICE\\nLat...</td>\n",
       "    </tr>\n",
       "    <tr>\n",
       "      <th>2</th>\n",
       "      <td>https://doj.gov.in/history/</td>\n",
       "      <td>Last updated: 13-01-2023\\nAs per the Allocatio...</td>\n",
       "    </tr>\n",
       "    <tr>\n",
       "      <th>3</th>\n",
       "      <td>https://doj.gov.in/about-department/</td>\n",
       "      <td>Last updated: 19-04-2024\\nAs per the Allocatio...</td>\n",
       "    </tr>\n",
       "    <tr>\n",
       "      <th>4</th>\n",
       "      <td>https://doj.gov.in/about-department/vision-and...</td>\n",
       "      <td>Facilitating administration of Justice that en...</td>\n",
       "    </tr>\n",
       "  </tbody>\n",
       "</table>\n",
       "</div>"
      ],
      "text/plain": [
       "                                               links  \\\n",
       "0                                https://doj.gov.in/   \n",
       "1                               https://doj.gov.in/#   \n",
       "2                        https://doj.gov.in/history/   \n",
       "3               https://doj.gov.in/about-department/   \n",
       "4  https://doj.gov.in/about-department/vision-and...   \n",
       "\n",
       "                                             content  \n",
       "0  \\n\\n\\n\\n\\n\\n\\n\\n\\n\\nDEPARTMENT OF JUSTICE\\nLat...  \n",
       "1  \\n\\n\\n\\n\\n\\n\\n\\n\\n\\nDEPARTMENT OF JUSTICE\\nLat...  \n",
       "2  Last updated: 13-01-2023\\nAs per the Allocatio...  \n",
       "3  Last updated: 19-04-2024\\nAs per the Allocatio...  \n",
       "4  Facilitating administration of Justice that en...  "
      ]
     },
     "metadata": {},
     "output_type": "display_data"
    }
   ],
   "source": [
    "data.head(5)"
   ]
  },
  {
   "cell_type": "markdown",
   "metadata": {},
   "source": [
    "Data Cleaning"
   ]
  },
  {
   "cell_type": "code",
   "execution_count": null,
   "metadata": {},
   "outputs": [],
   "source": [
    "data['Extracted Text'] = data['content'].str.replace(r'\\r\\n', ' ', regex=True)\n",
    "data['Extracted Text'] = data['Extracted Text'].str.replace(r'\\s+', ' ', regex=True).str.strip()"
   ]
  },
  {
   "cell_type": "code",
   "execution_count": null,
   "metadata": {},
   "outputs": [
    {
     "data": {
      "text/html": [
       "<div>\n",
       "<style scoped>\n",
       "    .dataframe tbody tr th:only-of-type {\n",
       "        vertical-align: middle;\n",
       "    }\n",
       "\n",
       "    .dataframe tbody tr th {\n",
       "        vertical-align: top;\n",
       "    }\n",
       "\n",
       "    .dataframe thead th {\n",
       "        text-align: right;\n",
       "    }\n",
       "</style>\n",
       "<table border=\"1\" class=\"dataframe\">\n",
       "  <thead>\n",
       "    <tr style=\"text-align: right;\">\n",
       "      <th></th>\n",
       "      <th>links</th>\n",
       "      <th>content</th>\n",
       "      <th>Extracted Text</th>\n",
       "    </tr>\n",
       "  </thead>\n",
       "  <tbody>\n",
       "    <tr>\n",
       "      <th>0</th>\n",
       "      <td>https://doj.gov.in/</td>\n",
       "      <td>\\n\\n\\n\\n\\n\\n\\n\\n\\n\\nDEPARTMENT OF JUSTICE\\nLat...</td>\n",
       "      <td>DEPARTMENT OF JUSTICE Latest News</td>\n",
       "    </tr>\n",
       "    <tr>\n",
       "      <th>1</th>\n",
       "      <td>https://doj.gov.in/#</td>\n",
       "      <td>\\n\\n\\n\\n\\n\\n\\n\\n\\n\\nDEPARTMENT OF JUSTICE\\nLat...</td>\n",
       "      <td>DEPARTMENT OF JUSTICE Latest News</td>\n",
       "    </tr>\n",
       "    <tr>\n",
       "      <th>2</th>\n",
       "      <td>https://doj.gov.in/history/</td>\n",
       "      <td>Last updated: 13-01-2023\\nAs per the Allocatio...</td>\n",
       "      <td>Last updated: 13-01-2023 As per the Allocation...</td>\n",
       "    </tr>\n",
       "    <tr>\n",
       "      <th>3</th>\n",
       "      <td>https://doj.gov.in/about-department/</td>\n",
       "      <td>Last updated: 19-04-2024\\nAs per the Allocatio...</td>\n",
       "      <td>Last updated: 19-04-2024 As per the Allocation...</td>\n",
       "    </tr>\n",
       "    <tr>\n",
       "      <th>4</th>\n",
       "      <td>https://doj.gov.in/about-department/vision-and...</td>\n",
       "      <td>Facilitating administration of Justice that en...</td>\n",
       "      <td>Facilitating administration of Justice that en...</td>\n",
       "    </tr>\n",
       "  </tbody>\n",
       "</table>\n",
       "</div>"
      ],
      "text/plain": [
       "                                               links  \\\n",
       "0                                https://doj.gov.in/   \n",
       "1                               https://doj.gov.in/#   \n",
       "2                        https://doj.gov.in/history/   \n",
       "3               https://doj.gov.in/about-department/   \n",
       "4  https://doj.gov.in/about-department/vision-and...   \n",
       "\n",
       "                                             content  \\\n",
       "0  \\n\\n\\n\\n\\n\\n\\n\\n\\n\\nDEPARTMENT OF JUSTICE\\nLat...   \n",
       "1  \\n\\n\\n\\n\\n\\n\\n\\n\\n\\nDEPARTMENT OF JUSTICE\\nLat...   \n",
       "2  Last updated: 13-01-2023\\nAs per the Allocatio...   \n",
       "3  Last updated: 19-04-2024\\nAs per the Allocatio...   \n",
       "4  Facilitating administration of Justice that en...   \n",
       "\n",
       "                                      Extracted Text  \n",
       "0                  DEPARTMENT OF JUSTICE Latest News  \n",
       "1                  DEPARTMENT OF JUSTICE Latest News  \n",
       "2  Last updated: 13-01-2023 As per the Allocation...  \n",
       "3  Last updated: 19-04-2024 As per the Allocation...  \n",
       "4  Facilitating administration of Justice that en...  "
      ]
     },
     "metadata": {},
     "output_type": "display_data"
    }
   ],
   "source": [
    "data.head()"
   ]
  },
  {
   "cell_type": "code",
   "execution_count": null,
   "metadata": {},
   "outputs": [
    {
     "data": {
      "text/plain": [
       "459"
      ]
     },
     "metadata": {},
     "output_type": "display_data"
    }
   ],
   "source": [
    "data.size"
   ]
  },
  {
   "cell_type": "code",
   "execution_count": null,
   "metadata": {},
   "outputs": [
    {
     "data": {
      "text/plain": [
       "118"
      ]
     },
     "metadata": {},
     "output_type": "display_data"
    }
   ],
   "source": [
    "data['links'].unique().size"
   ]
  },
  {
   "cell_type": "code",
   "execution_count": null,
   "metadata": {},
   "outputs": [
    {
     "data": {
      "text/html": [
       "<div>\n",
       "<style scoped>\n",
       "    .dataframe tbody tr th:only-of-type {\n",
       "        vertical-align: middle;\n",
       "    }\n",
       "\n",
       "    .dataframe tbody tr th {\n",
       "        vertical-align: top;\n",
       "    }\n",
       "\n",
       "    .dataframe thead th {\n",
       "        text-align: right;\n",
       "    }\n",
       "</style>\n",
       "<table border=\"1\" class=\"dataframe\">\n",
       "  <thead>\n",
       "    <tr style=\"text-align: right;\">\n",
       "      <th></th>\n",
       "      <th>links</th>\n",
       "      <th>Extracted Text</th>\n",
       "    </tr>\n",
       "  </thead>\n",
       "  <tbody>\n",
       "    <tr>\n",
       "      <th>0</th>\n",
       "      <td>https://doj.gov.in/</td>\n",
       "      <td>DEPARTMENT OF JUSTICE Latest News</td>\n",
       "    </tr>\n",
       "    <tr>\n",
       "      <th>1</th>\n",
       "      <td>https://doj.gov.in/#</td>\n",
       "      <td>DEPARTMENT OF JUSTICE Latest News</td>\n",
       "    </tr>\n",
       "    <tr>\n",
       "      <th>2</th>\n",
       "      <td>https://doj.gov.in/history/</td>\n",
       "      <td>Last updated: 13-01-2023 As per the Allocation...</td>\n",
       "    </tr>\n",
       "    <tr>\n",
       "      <th>3</th>\n",
       "      <td>https://doj.gov.in/about-department/</td>\n",
       "      <td>Last updated: 19-04-2024 As per the Allocation...</td>\n",
       "    </tr>\n",
       "    <tr>\n",
       "      <th>4</th>\n",
       "      <td>https://doj.gov.in/about-department/vision-and...</td>\n",
       "      <td>Facilitating administration of Justice that en...</td>\n",
       "    </tr>\n",
       "  </tbody>\n",
       "</table>\n",
       "</div>"
      ],
      "text/plain": [
       "                                               links  \\\n",
       "0                                https://doj.gov.in/   \n",
       "1                               https://doj.gov.in/#   \n",
       "2                        https://doj.gov.in/history/   \n",
       "3               https://doj.gov.in/about-department/   \n",
       "4  https://doj.gov.in/about-department/vision-and...   \n",
       "\n",
       "                                      Extracted Text  \n",
       "0                  DEPARTMENT OF JUSTICE Latest News  \n",
       "1                  DEPARTMENT OF JUSTICE Latest News  \n",
       "2  Last updated: 13-01-2023 As per the Allocation...  \n",
       "3  Last updated: 19-04-2024 As per the Allocation...  \n",
       "4  Facilitating administration of Justice that en...  "
      ]
     },
     "metadata": {},
     "output_type": "display_data"
    }
   ],
   "source": [
    "data = data.drop_duplicates(subset='links')\n",
    "data = data[['links', 'Extracted Text']]\n",
    "data.head(5)"
   ]
  },
  {
   "cell_type": "markdown",
   "metadata": {},
   "source": [
    "Tokenization"
   ]
  },
  {
   "cell_type": "code",
   "execution_count": null,
   "metadata": {},
   "outputs": [],
   "source": [
    "data['Extracted Text'] = data['Extracted Text'].astype(str)"
   ]
  },
  {
   "cell_type": "code",
   "execution_count": null,
   "metadata": {},
   "outputs": [
    {
     "data": {
      "text/html": [
       "<div>\n",
       "<style scoped>\n",
       "    .dataframe tbody tr th:only-of-type {\n",
       "        vertical-align: middle;\n",
       "    }\n",
       "\n",
       "    .dataframe tbody tr th {\n",
       "        vertical-align: top;\n",
       "    }\n",
       "\n",
       "    .dataframe thead th {\n",
       "        text-align: right;\n",
       "    }\n",
       "</style>\n",
       "<table border=\"1\" class=\"dataframe\">\n",
       "  <thead>\n",
       "    <tr style=\"text-align: right;\">\n",
       "      <th></th>\n",
       "      <th>links</th>\n",
       "      <th>Extracted Text</th>\n",
       "      <th>Tokens</th>\n",
       "    </tr>\n",
       "  </thead>\n",
       "  <tbody>\n",
       "    <tr>\n",
       "      <th>0</th>\n",
       "      <td>https://doj.gov.in/</td>\n",
       "      <td>DEPARTMENT OF JUSTICE Latest News</td>\n",
       "      <td>[DEPARTMENT, OF, JUSTICE, Latest, News]</td>\n",
       "    </tr>\n",
       "    <tr>\n",
       "      <th>1</th>\n",
       "      <td>https://doj.gov.in/#</td>\n",
       "      <td>DEPARTMENT OF JUSTICE Latest News</td>\n",
       "      <td>[DEPARTMENT, OF, JUSTICE, Latest, News]</td>\n",
       "    </tr>\n",
       "    <tr>\n",
       "      <th>2</th>\n",
       "      <td>https://doj.gov.in/history/</td>\n",
       "      <td>Last updated: 13-01-2023 As per the Allocation...</td>\n",
       "      <td>[Last, updated, :, 13-01-2023, As, per, the, A...</td>\n",
       "    </tr>\n",
       "    <tr>\n",
       "      <th>3</th>\n",
       "      <td>https://doj.gov.in/about-department/</td>\n",
       "      <td>Last updated: 19-04-2024 As per the Allocation...</td>\n",
       "      <td>[Last, updated, :, 19-04-2024, As, per, the, A...</td>\n",
       "    </tr>\n",
       "    <tr>\n",
       "      <th>4</th>\n",
       "      <td>https://doj.gov.in/about-department/vision-and...</td>\n",
       "      <td>Facilitating administration of Justice that en...</td>\n",
       "      <td>[Facilitating, administration, of, Justice, th...</td>\n",
       "    </tr>\n",
       "  </tbody>\n",
       "</table>\n",
       "</div>"
      ],
      "text/plain": [
       "                                               links  \\\n",
       "0                                https://doj.gov.in/   \n",
       "1                               https://doj.gov.in/#   \n",
       "2                        https://doj.gov.in/history/   \n",
       "3               https://doj.gov.in/about-department/   \n",
       "4  https://doj.gov.in/about-department/vision-and...   \n",
       "\n",
       "                                      Extracted Text  \\\n",
       "0                  DEPARTMENT OF JUSTICE Latest News   \n",
       "1                  DEPARTMENT OF JUSTICE Latest News   \n",
       "2  Last updated: 13-01-2023 As per the Allocation...   \n",
       "3  Last updated: 19-04-2024 As per the Allocation...   \n",
       "4  Facilitating administration of Justice that en...   \n",
       "\n",
       "                                              Tokens  \n",
       "0            [DEPARTMENT, OF, JUSTICE, Latest, News]  \n",
       "1            [DEPARTMENT, OF, JUSTICE, Latest, News]  \n",
       "2  [Last, updated, :, 13-01-2023, As, per, the, A...  \n",
       "3  [Last, updated, :, 19-04-2024, As, per, the, A...  \n",
       "4  [Facilitating, administration, of, Justice, th...  "
      ]
     },
     "metadata": {},
     "output_type": "display_data"
    }
   ],
   "source": [
    "data['Tokens'] = data['Extracted Text'].apply(word_tokenize)\n",
    "data.head(5)"
   ]
  },
  {
   "cell_type": "markdown",
   "metadata": {},
   "source": [
    "Stopword Removal and Lemmitization"
   ]
  },
  {
   "cell_type": "code",
   "execution_count": null,
   "metadata": {},
   "outputs": [
    {
     "data": {
      "text/html": [
       "<div>\n",
       "<style scoped>\n",
       "    .dataframe tbody tr th:only-of-type {\n",
       "        vertical-align: middle;\n",
       "    }\n",
       "\n",
       "    .dataframe tbody tr th {\n",
       "        vertical-align: top;\n",
       "    }\n",
       "\n",
       "    .dataframe thead th {\n",
       "        text-align: right;\n",
       "    }\n",
       "</style>\n",
       "<table border=\"1\" class=\"dataframe\">\n",
       "  <thead>\n",
       "    <tr style=\"text-align: right;\">\n",
       "      <th></th>\n",
       "      <th>links</th>\n",
       "      <th>Extracted Text</th>\n",
       "      <th>Tokens</th>\n",
       "    </tr>\n",
       "  </thead>\n",
       "  <tbody>\n",
       "    <tr>\n",
       "      <th>0</th>\n",
       "      <td>https://doj.gov.in/</td>\n",
       "      <td>DEPARTMENT OF JUSTICE Latest News</td>\n",
       "      <td>[DEPARTMENT, JUSTICE, Latest, News]</td>\n",
       "    </tr>\n",
       "    <tr>\n",
       "      <th>1</th>\n",
       "      <td>https://doj.gov.in/#</td>\n",
       "      <td>DEPARTMENT OF JUSTICE Latest News</td>\n",
       "      <td>[DEPARTMENT, JUSTICE, Latest, News]</td>\n",
       "    </tr>\n",
       "    <tr>\n",
       "      <th>2</th>\n",
       "      <td>https://doj.gov.in/history/</td>\n",
       "      <td>Last updated: 13-01-2023 As per the Allocation...</td>\n",
       "      <td>[Last, updated, 13012023, per, Allocation, Bus...</td>\n",
       "    </tr>\n",
       "    <tr>\n",
       "      <th>3</th>\n",
       "      <td>https://doj.gov.in/about-department/</td>\n",
       "      <td>Last updated: 19-04-2024 As per the Allocation...</td>\n",
       "      <td>[Last, updated, 19042024, per, Allocation, Bus...</td>\n",
       "    </tr>\n",
       "    <tr>\n",
       "      <th>4</th>\n",
       "      <td>https://doj.gov.in/about-department/vision-and...</td>\n",
       "      <td>Facilitating administration of Justice that en...</td>\n",
       "      <td>[Facilitating, administration, Justice, ensure...</td>\n",
       "    </tr>\n",
       "  </tbody>\n",
       "</table>\n",
       "</div>"
      ],
      "text/plain": [
       "                                               links  \\\n",
       "0                                https://doj.gov.in/   \n",
       "1                               https://doj.gov.in/#   \n",
       "2                        https://doj.gov.in/history/   \n",
       "3               https://doj.gov.in/about-department/   \n",
       "4  https://doj.gov.in/about-department/vision-and...   \n",
       "\n",
       "                                      Extracted Text  \\\n",
       "0                  DEPARTMENT OF JUSTICE Latest News   \n",
       "1                  DEPARTMENT OF JUSTICE Latest News   \n",
       "2  Last updated: 13-01-2023 As per the Allocation...   \n",
       "3  Last updated: 19-04-2024 As per the Allocation...   \n",
       "4  Facilitating administration of Justice that en...   \n",
       "\n",
       "                                              Tokens  \n",
       "0                [DEPARTMENT, JUSTICE, Latest, News]  \n",
       "1                [DEPARTMENT, JUSTICE, Latest, News]  \n",
       "2  [Last, updated, 13012023, per, Allocation, Bus...  \n",
       "3  [Last, updated, 19042024, per, Allocation, Bus...  \n",
       "4  [Facilitating, administration, Justice, ensure...  "
      ]
     },
     "metadata": {},
     "output_type": "display_data"
    }
   ],
   "source": [
    "# Define the set of stop words\n",
    "stop_words = set(stopwords.words('english'))\n",
    "\n",
    "# Function to clean tokens\n",
    "def clean_tokens(tokens):\n",
    "    # Remove punctuation and special characters\n",
    "    tokens = [re.sub(r'[^a-zA-Z0-9]', '', word) for word in tokens]\n",
    "    # Remove empty strings that may result from cleaning\n",
    "    tokens = [word for word in tokens if word]  # Remove empty strings\n",
    "    # Remove stop words\n",
    "    tokens = [word for word in tokens if word.lower() not in stop_words]\n",
    "    return tokens\n",
    "\n",
    "# Clean tokens and remove stop words\n",
    "data['Tokens'] = data['Tokens'].apply(clean_tokens)\n",
    "data.head(5)"
   ]
  },
  {
   "cell_type": "code",
   "execution_count": null,
   "metadata": {},
   "outputs": [
    {
     "name": "stdout",
     "output_type": "stream",
     "text": [
      "\n",
      "Data After Lemmatization:\n"
     ]
    },
    {
     "data": {
      "text/html": [
       "<div>\n",
       "<style scoped>\n",
       "    .dataframe tbody tr th:only-of-type {\n",
       "        vertical-align: middle;\n",
       "    }\n",
       "\n",
       "    .dataframe tbody tr th {\n",
       "        vertical-align: top;\n",
       "    }\n",
       "\n",
       "    .dataframe thead th {\n",
       "        text-align: right;\n",
       "    }\n",
       "</style>\n",
       "<table border=\"1\" class=\"dataframe\">\n",
       "  <thead>\n",
       "    <tr style=\"text-align: right;\">\n",
       "      <th></th>\n",
       "      <th>links</th>\n",
       "      <th>Extracted Text</th>\n",
       "      <th>Tokens</th>\n",
       "      <th>Lemmatized Tokens</th>\n",
       "      <th>content</th>\n",
       "    </tr>\n",
       "  </thead>\n",
       "  <tbody>\n",
       "    <tr>\n",
       "      <th>0</th>\n",
       "      <td>https://doj.gov.in/</td>\n",
       "      <td>DEPARTMENT OF JUSTICE Latest News</td>\n",
       "      <td>[DEPARTMENT, JUSTICE, Latest, News]</td>\n",
       "      <td>[DEPARTMENT, JUSTICE, Latest, News]</td>\n",
       "      <td>[DEPARTMENT, JUSTICE, Latest, News]</td>\n",
       "    </tr>\n",
       "    <tr>\n",
       "      <th>1</th>\n",
       "      <td>https://doj.gov.in/#</td>\n",
       "      <td>DEPARTMENT OF JUSTICE Latest News</td>\n",
       "      <td>[DEPARTMENT, JUSTICE, Latest, News]</td>\n",
       "      <td>[DEPARTMENT, JUSTICE, Latest, News]</td>\n",
       "      <td>[DEPARTMENT, JUSTICE, Latest, News]</td>\n",
       "    </tr>\n",
       "    <tr>\n",
       "      <th>2</th>\n",
       "      <td>https://doj.gov.in/history/</td>\n",
       "      <td>Last updated: 13-01-2023 As per the Allocation...</td>\n",
       "      <td>[Last, updated, 13012023, per, Allocation, Bus...</td>\n",
       "      <td>[Last, updated, 13012023, per, Allocation, Bus...</td>\n",
       "      <td>[Last, updated, 13012023, per, Allocation, Bus...</td>\n",
       "    </tr>\n",
       "    <tr>\n",
       "      <th>3</th>\n",
       "      <td>https://doj.gov.in/about-department/</td>\n",
       "      <td>Last updated: 19-04-2024 As per the Allocation...</td>\n",
       "      <td>[Last, updated, 19042024, per, Allocation, Bus...</td>\n",
       "      <td>[Last, updated, 19042024, per, Allocation, Bus...</td>\n",
       "      <td>[Last, updated, 19042024, per, Allocation, Bus...</td>\n",
       "    </tr>\n",
       "    <tr>\n",
       "      <th>4</th>\n",
       "      <td>https://doj.gov.in/about-department/vision-and...</td>\n",
       "      <td>Facilitating administration of Justice that en...</td>\n",
       "      <td>[Facilitating, administration, Justice, ensure...</td>\n",
       "      <td>[Facilitating, administration, Justice, ensure...</td>\n",
       "      <td>[Facilitating, administration, Justice, ensure...</td>\n",
       "    </tr>\n",
       "  </tbody>\n",
       "</table>\n",
       "</div>"
      ],
      "text/plain": [
       "                                               links  \\\n",
       "0                                https://doj.gov.in/   \n",
       "1                               https://doj.gov.in/#   \n",
       "2                        https://doj.gov.in/history/   \n",
       "3               https://doj.gov.in/about-department/   \n",
       "4  https://doj.gov.in/about-department/vision-and...   \n",
       "\n",
       "                                      Extracted Text  \\\n",
       "0                  DEPARTMENT OF JUSTICE Latest News   \n",
       "1                  DEPARTMENT OF JUSTICE Latest News   \n",
       "2  Last updated: 13-01-2023 As per the Allocation...   \n",
       "3  Last updated: 19-04-2024 As per the Allocation...   \n",
       "4  Facilitating administration of Justice that en...   \n",
       "\n",
       "                                              Tokens  \\\n",
       "0                [DEPARTMENT, JUSTICE, Latest, News]   \n",
       "1                [DEPARTMENT, JUSTICE, Latest, News]   \n",
       "2  [Last, updated, 13012023, per, Allocation, Bus...   \n",
       "3  [Last, updated, 19042024, per, Allocation, Bus...   \n",
       "4  [Facilitating, administration, Justice, ensure...   \n",
       "\n",
       "                                   Lemmatized Tokens  \\\n",
       "0                [DEPARTMENT, JUSTICE, Latest, News]   \n",
       "1                [DEPARTMENT, JUSTICE, Latest, News]   \n",
       "2  [Last, updated, 13012023, per, Allocation, Bus...   \n",
       "3  [Last, updated, 19042024, per, Allocation, Bus...   \n",
       "4  [Facilitating, administration, Justice, ensure...   \n",
       "\n",
       "                                             content  \n",
       "0                [DEPARTMENT, JUSTICE, Latest, News]  \n",
       "1                [DEPARTMENT, JUSTICE, Latest, News]  \n",
       "2  [Last, updated, 13012023, per, Allocation, Bus...  \n",
       "3  [Last, updated, 19042024, per, Allocation, Bus...  \n",
       "4  [Facilitating, administration, Justice, ensure...  "
      ]
     },
     "metadata": {},
     "output_type": "display_data"
    }
   ],
   "source": [
    "# Initialize the lemmatizer\n",
    "lemmatizer = WordNetLemmatizer()\n",
    "\n",
    "# Apply lemmatization to the tokens\n",
    "data['content'] = data['Tokens'].apply(lambda tokens: [lemmatizer.lemmatize(word) for word in tokens])\n",
    "\n",
    "# Print the DataFrame to see the data after lemmatization\n",
    "print(\"\\nData After Lemmatization:\")\n",
    "data.head(5)  # Display the original text, tokens, and lemmatized tokens\n"
   ]
  },
  {
   "cell_type": "code",
   "execution_count": null,
   "metadata": {},
   "outputs": [
    {
     "data": {
      "text/html": [
       "<div>\n",
       "<style scoped>\n",
       "    .dataframe tbody tr th:only-of-type {\n",
       "        vertical-align: middle;\n",
       "    }\n",
       "\n",
       "    .dataframe tbody tr th {\n",
       "        vertical-align: top;\n",
       "    }\n",
       "\n",
       "    .dataframe thead th {\n",
       "        text-align: right;\n",
       "    }\n",
       "</style>\n",
       "<table border=\"1\" class=\"dataframe\">\n",
       "  <thead>\n",
       "    <tr style=\"text-align: right;\">\n",
       "      <th></th>\n",
       "      <th>links</th>\n",
       "      <th>content</th>\n",
       "    </tr>\n",
       "  </thead>\n",
       "  <tbody>\n",
       "    <tr>\n",
       "      <th>0</th>\n",
       "      <td>https://doj.gov.in/</td>\n",
       "      <td>[DEPARTMENT, JUSTICE, Latest, News]</td>\n",
       "    </tr>\n",
       "    <tr>\n",
       "      <th>1</th>\n",
       "      <td>https://doj.gov.in/#</td>\n",
       "      <td>[DEPARTMENT, JUSTICE, Latest, News]</td>\n",
       "    </tr>\n",
       "    <tr>\n",
       "      <th>2</th>\n",
       "      <td>https://doj.gov.in/history/</td>\n",
       "      <td>[Last, updated, 13012023, per, Allocation, Bus...</td>\n",
       "    </tr>\n",
       "    <tr>\n",
       "      <th>3</th>\n",
       "      <td>https://doj.gov.in/about-department/</td>\n",
       "      <td>[Last, updated, 19042024, per, Allocation, Bus...</td>\n",
       "    </tr>\n",
       "    <tr>\n",
       "      <th>4</th>\n",
       "      <td>https://doj.gov.in/about-department/vision-and...</td>\n",
       "      <td>[Facilitating, administration, Justice, ensure...</td>\n",
       "    </tr>\n",
       "    <tr>\n",
       "      <th>...</th>\n",
       "      <td>...</td>\n",
       "      <td>...</td>\n",
       "    </tr>\n",
       "    <tr>\n",
       "      <th>146</th>\n",
       "      <td>https://doj.gov.in/videos-2/</td>\n",
       "      <td>[Content, Owned, DEPARTMENT, JUSTICE, Ministry...</td>\n",
       "    </tr>\n",
       "    <tr>\n",
       "      <th>148</th>\n",
       "      <td>https://doj.gov.in/category/press-release/</td>\n",
       "      <td>[Download, PDF, 80KB, Download, PDF, 76KB, Con...</td>\n",
       "    </tr>\n",
       "    <tr>\n",
       "      <th>149</th>\n",
       "      <td>https://doj.gov.in/photo-gallery/</td>\n",
       "      <td>[Content, Owned, DEPARTMENT, JUSTICE, Ministry...</td>\n",
       "    </tr>\n",
       "    <tr>\n",
       "      <th>150</th>\n",
       "      <td>https://doj.gov.in/video-gallery/</td>\n",
       "      <td>[Content, Owned, DEPARTMENT, JUSTICE, Ministry...</td>\n",
       "    </tr>\n",
       "    <tr>\n",
       "      <th>151</th>\n",
       "      <td>https://doj.gov.in/events/</td>\n",
       "      <td>[eCourts, project, Department, Justice, confer...</td>\n",
       "    </tr>\n",
       "  </tbody>\n",
       "</table>\n",
       "<p>118 rows × 2 columns</p>\n",
       "</div>"
      ],
      "text/plain": [
       "                                                 links  \\\n",
       "0                                  https://doj.gov.in/   \n",
       "1                                 https://doj.gov.in/#   \n",
       "2                          https://doj.gov.in/history/   \n",
       "3                 https://doj.gov.in/about-department/   \n",
       "4    https://doj.gov.in/about-department/vision-and...   \n",
       "..                                                 ...   \n",
       "146                       https://doj.gov.in/videos-2/   \n",
       "148         https://doj.gov.in/category/press-release/   \n",
       "149                  https://doj.gov.in/photo-gallery/   \n",
       "150                  https://doj.gov.in/video-gallery/   \n",
       "151                         https://doj.gov.in/events/   \n",
       "\n",
       "                                               content  \n",
       "0                  [DEPARTMENT, JUSTICE, Latest, News]  \n",
       "1                  [DEPARTMENT, JUSTICE, Latest, News]  \n",
       "2    [Last, updated, 13012023, per, Allocation, Bus...  \n",
       "3    [Last, updated, 19042024, per, Allocation, Bus...  \n",
       "4    [Facilitating, administration, Justice, ensure...  \n",
       "..                                                 ...  \n",
       "146  [Content, Owned, DEPARTMENT, JUSTICE, Ministry...  \n",
       "148  [Download, PDF, 80KB, Download, PDF, 76KB, Con...  \n",
       "149  [Content, Owned, DEPARTMENT, JUSTICE, Ministry...  \n",
       "150  [Content, Owned, DEPARTMENT, JUSTICE, Ministry...  \n",
       "151  [eCourts, project, Department, Justice, confer...  \n",
       "\n",
       "[118 rows x 2 columns]"
      ]
     },
     "metadata": {},
     "output_type": "display_data"
    }
   ],
   "source": [
    "data_cleaned = data[['links','content']]\n",
    "data_cleaned"
   ]
  }
 ],
 "metadata": {
  "language_info": {
   "name": "python"
  }
 },
 "nbformat": 4,
 "nbformat_minor": 2
}
